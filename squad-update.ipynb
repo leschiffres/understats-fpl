{
 "cells": [
  {
   "cell_type": "code",
   "execution_count": null,
   "id": "c4ce4e5b",
   "metadata": {},
   "outputs": [],
   "source": [
    "import requests\n",
    "import json\n",
    "import pandas as pd\n",
    "import time\n",
    "import datetime\n",
    "from bs4 import BeautifulSoup"
   ]
  },
  {
   "cell_type": "code",
   "execution_count": null,
   "id": "b394e86b",
   "metadata": {},
   "outputs": [],
   "source": [
    "base_url = 'https://understat.com/league/EPL/'\n",
    "url = base_url\n",
    "\n",
    "res = requests.get(url)\n",
    "soup = BeautifulSoup(res.content, 'html.parser')\n",
    "scripts = soup.find_all('script')\n"
   ]
  },
  {
   "cell_type": "code",
   "execution_count": null,
   "id": "093f220c",
   "metadata": {},
   "outputs": [],
   "source": [
    "matches = scripts[3]\n",
    "strings = matches.string\n",
    "start = strings.index(\"('\")+2\n",
    "end = strings.index(\"')\")\n",
    "json_data = strings[start:end]\n",
    "json_data = json_data.encode('utf8').decode('unicode_escape')\n",
    "\n",
    "data = json.loads(json_data)\n",
    "\n",
    "columns = data[0].keys()\n",
    "dc = {c:[] for c in columns}\n",
    "\n",
    "for player in data:\n",
    "    for c in columns:\n",
    "        dc[c].append(player[c])\n",
    "players = pd.DataFrame(dc)\n",
    "players.head(3)"
   ]
  },
  {
   "cell_type": "markdown",
   "id": "94ba9e05",
   "metadata": {},
   "source": [
    "## Best Attacking Players Overall\n",
    "\n",
    "based on attacking rating "
   ]
  },
  {
   "cell_type": "code",
   "execution_count": null,
   "id": "9733a9d8",
   "metadata": {},
   "outputs": [],
   "source": [
    "players['xG'] = players['xG'].apply(lambda x: float(x))\n",
    "players['xA'] = players['xA'].apply(lambda x: float(x))\n",
    "players['goals'] = players['goals'].apply(lambda x: int(x))\n",
    "players['assists'] = players['assists'].apply(lambda x: int(x))\n",
    "players['shots'] = players['shots'].apply(lambda x: int(x))\n",
    "players['attacking_rating'] = players.apply(lambda x: x['xG'] *1.2 + x['xA'], axis = 1)\n",
    "\n",
    "columns = ['id', 'player_name', 'position', 'team_title', 'games', 'time', 'attacking_rating', 'xG', 'xA', 'goals', 'assists']\n",
    "players[columns].sort_values(by='attacking_rating', ascending=False, ignore_index=True).head(25)"
   ]
  },
  {
   "cell_type": "markdown",
   "id": "a7fc71ec",
   "metadata": {},
   "source": [
    "## Choose the most suitable attacking players by looking at the worst defending teams"
   ]
  },
  {
   "cell_type": "markdown",
   "id": "a90c847c",
   "metadata": {},
   "source": [
    "Get the 5 worst teams in the past X games and find their opponents . Show the best players of the other team. By best players we define the ones that in the past 6 games have the best avg rating (to show their form)\n",
    "\n",
    "\n",
    "Penalise the team if it concedes a goal at home. Every xgoal at home is multiply by 1.2."
   ]
  },
  {
   "cell_type": "code",
   "execution_count": null,
   "id": "ccb6d4e0",
   "metadata": {},
   "outputs": [],
   "source": [
    "matches = scripts[2]\n",
    "strings = matches.string\n",
    "start = strings.index(\"('\")+2\n",
    "end = strings.index(\"')\")\n",
    "json_data = strings[start:end]\n",
    "json_data = json_data.encode('utf8').decode('unicode_escape')\n",
    "\n",
    "data = json.loads(json_data)\n",
    "columns = ['h_a', 'xG', 'xGA', 'npxG', 'npxGA', 'scored','missed', 'xpts', 'result']\n",
    "\n",
    "dc = {}\n",
    "dc['team'] = []\n",
    "for c in columns:\n",
    "    dc[c] = []\n",
    "\n",
    "team_list = []\n",
    "for team_id in data:\n",
    "    team_name = data[team_id]['title']\n",
    "    team_list.append(team_name)\n",
    "    for match in data[team_id]['history']:\n",
    "        dc['team'].append(team_name)\n",
    "        for c in columns:\n",
    "            dc[c].append(match[c]) \n",
    "            \n",
    "matches_df = pd.DataFrame(dc)\n"
   ]
  },
  {
   "cell_type": "code",
   "execution_count": null,
   "id": "97a813d0",
   "metadata": {},
   "outputs": [],
   "source": [
    "NUMBER_OF_GAMES = 8\n",
    "print(f'Looking back at {NUMBER_OF_GAMES} games.')\n",
    "matches_df['defending_rating'] = matches_df.apply(lambda row: 1.2 * row['xGA'] if row['h_a'] == 'a' else row['xGA'], axis=1)\n",
    "matches_df['matches_home'] = matches_df.apply(lambda row: 1 if row['h_a'] == 'h' else 0, axis=1)\n",
    "matches_df['matches_away'] = matches_df.apply(lambda row: 1 if row['h_a'] == 'a' else 0, axis=1)\n",
    "matches_df['defence_home'] = matches_df.apply(lambda row: row['xGA'] if row['h_a'] == 'h' else 0, axis=1)\n",
    "matches_df['defence_away'] = matches_df.apply(lambda row: row['xGA'] if row['h_a'] == 'a' else 0, axis=1)\n",
    "defence_df = matches_df.groupby('team').tail(NUMBER_OF_GAMES).groupby('team', as_index=False).apply(\n",
    "        lambda row: pd.Series(\n",
    "            {\n",
    "                'xG':sum(row.xG)\n",
    "                , 'xGA': sum(row.xGA)\n",
    "                , 'xpts': sum(row.xpts)\n",
    "                , 'defending_rating': sum(row.defending_rating)\n",
    "                , 'defence_home': sum(row.defence_home)\n",
    "                , 'defence_away': sum(row.defence_away)\n",
    "                , 'matches_home': sum(row.matches_home)\n",
    "                , 'matches_away': sum(row.matches_away)\n",
    "            }\n",
    "        )\n",
    "    ).sort_values('defending_rating', ascending=False, ignore_index=True)[:]\n",
    "defence_df.sort_values(by='defending_rating', ascending=False, ignore_index=True)\n",
    "defence_df.sort_values(by='defence_away', ascending=False, ignore_index=True)"
   ]
  },
  {
   "cell_type": "markdown",
   "id": "747f76f7",
   "metadata": {},
   "source": [
    "Find the best performing teams in the past 5 matches"
   ]
  },
  {
   "cell_type": "code",
   "execution_count": null,
   "id": "5e6d8318",
   "metadata": {},
   "outputs": [],
   "source": [
    "defence_df.sort_values(by='xGA', ignore_index=False)"
   ]
  },
  {
   "cell_type": "markdown",
   "id": "f8984be0",
   "metadata": {},
   "source": [
    "## Get player data from team page\n",
    "\n",
    "To restrict the search space we just consider players that had at least 4 xgoals + xassists the whole season"
   ]
  },
  {
   "cell_type": "code",
   "execution_count": null,
   "id": "11ee13f3",
   "metadata": {},
   "outputs": [],
   "source": [
    "import time\n",
    "\n",
    "team_rosters = {}\n",
    "teams = ['Aston Villa', 'Everton', 'Southampton', 'Leicester', 'Crystal Palace', 'Norwich', 'Chelsea', 'West Ham', 'Tottenham', 'Arsenal', 'Newcastle United', 'Liverpool', 'Manchester City', 'Manchester United', 'Watford', 'Burnley', 'Brighton', 'Wolverhampton Wanderers', 'Brentford', 'Leeds']\n",
    "teams.sort()\n",
    "\n",
    "df = pd.DataFrame()\n",
    "\n",
    "for team in teams:\n",
    "    base_url = f'https://understat.com/team/{team}/2021'\n",
    "    url = base_url\n",
    "    print(url)\n",
    "\n",
    "    res = requests.get(url)\n",
    "    soup = BeautifulSoup(res.content, 'html.parser')\n",
    "    scripts = soup.find_all('script')\n",
    "\n",
    "    script_data = scripts[3]\n",
    "    strings = script_data.string\n",
    "    start = strings.index(\"('\")+2\n",
    "    end = strings.index(\"')\")\n",
    "    json_data = strings[start:end]\n",
    "    json_data = json_data.encode('utf8').decode('unicode_escape')\n",
    "    data = json.loads(json_data)\n",
    "\n",
    "    columns = data[0].keys()\n",
    "    dc = {c:[] for c in columns}\n",
    "\n",
    "    for player in data:\n",
    "        for c in columns:\n",
    "            dc[c].append(player[c])\n",
    "\n",
    "    team_data = pd.DataFrame(dc)\n",
    "    team_rosters[team] = team_data\n",
    "    team_data['team'] = team\n",
    "    team_data['xG'] = team_data['xG'].astype(float)\n",
    "    team_data['xA'] = team_data['xA'].astype(float)\n",
    "    team_data['xTotal'] = team_data['xG'] + team_data['xA']\n",
    "    df = df.append(team_data.loc[team_data['xTotal'] > 4, ['id', 'player_name', 'team', 'xG', 'xA', 'xTotal', 'goals', 'assists']])\n",
    "    time.sleep(2)\n",
    "df = df.reset_index(drop=True)"
   ]
  },
  {
   "cell_type": "code",
   "execution_count": null,
   "id": "4e34116f",
   "metadata": {},
   "outputs": [],
   "source": [
    "df"
   ]
  },
  {
   "cell_type": "markdown",
   "id": "7bd52ef0",
   "metadata": {},
   "source": [
    "## fetch player data"
   ]
  },
  {
   "cell_type": "code",
   "execution_count": null,
   "id": "6cc49f60",
   "metadata": {},
   "outputs": [],
   "source": [
    "player_data_all = pd.DataFrame()\n",
    "for i in range(len(df)):\n",
    "    player_id = df.at[i, 'id']\n",
    "    player_name = df.at[i, 'player_name']\n",
    "    print(player_id, player_name)\n",
    "    \n",
    "    base_url = f'https://understat.com/player/{player_id}'\n",
    "    url = base_url\n",
    "    print(url)\n",
    "\n",
    "    res = requests.get(url)\n",
    "    soup = BeautifulSoup(res.content, 'html.parser')\n",
    "    scripts = soup.find_all('script')\n",
    "    script_data = scripts[4]\n",
    "    strings = script_data.string\n",
    "    start = strings.index(\"('\")+2\n",
    "    end = strings.index(\"')\")\n",
    "    json_data = strings[start:end]\n",
    "    json_data = json_data.encode('utf8').decode('unicode_escape')\n",
    "    data = json.loads(json_data)\n",
    "\n",
    "    # get data for every player for the past 5 matches\n",
    "    NUMBER_OF_MATCHES = 5\n",
    "    columns = ['xG', 'xA', 'goals', 'assists', 'key_passes', 'shots', 'h_team', 'a_team', 'date']\n",
    "    dc = {c:[] for c in columns}\n",
    "\n",
    "    for match in data[:NUMBER_OF_MATCHES]:\n",
    "        for c in columns:\n",
    "            dc[c].append(match[c])\n",
    "    player_data = pd.DataFrame(dc)\n",
    "    player_data['player_id'] = player_id\n",
    "    player_data['player_name'] = player_name\n",
    "    player_data['xG'] = player_data['xG'].astype(float)\n",
    "    player_data['xA'] = player_data['xA'].astype(float)\n",
    "    player_data['goals'] = player_data['goals'].astype(float)\n",
    "    player_data['assists'] = player_data['assists'].astype(float)\n",
    "    player_data['key_passes'] = player_data['key_passes'].astype(float)\n",
    "    player_data['shots'] = player_data['shots'].astype(float)\n",
    "    \n",
    "    player_data_all = player_data_all.append(player_data)\n",
    "    time.sleep(2)"
   ]
  },
  {
   "cell_type": "code",
   "execution_count": null,
   "id": "0f833067",
   "metadata": {},
   "outputs": [],
   "source": [
    "agg = player_data_all.groupby(['player_id', 'player_name'], as_index=False).apply(\n",
    "        lambda row: pd.Series(\n",
    "            {\n",
    "                'xG':sum(row.xG),\n",
    "                'xA':sum(row.xA),\n",
    "                'key_passes': sum(row.key_passes),\n",
    "                'shots':sum(row.shots),\n",
    "                'goals':sum(row.goals),\n",
    "                'assists':sum(row.assists),\n",
    "            }\n",
    "        )\n",
    "    )\n",
    "agg['xTotal'] = agg['xG'] + agg['xA']\n",
    "agg.sort_values(by='xTotal', ascending=False).head(30)\n"
   ]
  }
 ],
 "metadata": {
  "kernelspec": {
   "display_name": "Python 3 (ipykernel)",
   "language": "python",
   "name": "python3"
  },
  "language_info": {
   "codemirror_mode": {
    "name": "ipython",
    "version": 3
   },
   "file_extension": ".py",
   "mimetype": "text/x-python",
   "name": "python",
   "nbconvert_exporter": "python",
   "pygments_lexer": "ipython3",
   "version": "3.7.12"
  }
 },
 "nbformat": 4,
 "nbformat_minor": 5
}
